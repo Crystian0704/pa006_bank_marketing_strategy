{
 "cells": [
  {
   "cell_type": "markdown",
   "id": "b5b4c66c",
   "metadata": {},
   "source": [
    "# PA 006 - Bank Marketing Strategy"
   ]
  },
  {
   "cell_type": "markdown",
   "id": "79363aa4",
   "metadata": {
    "heading_collapsed": true
   },
   "source": [
    "# Planejamento da Solução ( IOT )"
   ]
  },
  {
   "cell_type": "markdown",
   "id": "6448a62d",
   "metadata": {
    "heading_collapsed": true,
    "hidden": true
   },
   "source": [
    "## Input "
   ]
  },
  {
   "cell_type": "markdown",
   "id": "c80a80cc",
   "metadata": {
    "hidden": true
   },
   "source": [
    "Você foi contratado como um cientista de dados consultor, para criar um produto de dados que cria uma segmentação de clientes que direcionará a estratégia de marketing e os resultados esperados do seu trabalho de consultoria, são os seguintes:\n",
    "\n",
    "1. Criar uma segmentação de clientes baseado em critérios claros de seleção.\n",
    "2. Tornar a segmentação de clientes acessível para o time de operações.\n",
    "3. Ensinar o time de operações sobre como usar a sua solução.\n",
    "4. Transferir o conhecimento para os Cientistas de Dados da International Bank.\n",
    "5. Recomendar 2-3 alavancas de negócio para cada segmento de clientes."
   ]
  },
  {
   "cell_type": "markdown",
   "id": "09893a42",
   "metadata": {
    "heading_collapsed": true,
    "hidden": true
   },
   "source": [
    "## Output "
   ]
  },
  {
   "cell_type": "markdown",
   "id": "7ee07c0f",
   "metadata": {
    "hidden": true
   },
   "source": [
    "- Ferramentas:\n",
    "    - Metabase\n",
    "    - Streamlit\n",
    "    \n",
    "- URL para o time de operação testar\n",
    "- Download dos dados selecionados"
   ]
  },
  {
   "cell_type": "markdown",
   "id": "8c9829fd",
   "metadata": {
    "heading_collapsed": true,
    "hidden": true
   },
   "source": [
    "## Tasks "
   ]
  },
  {
   "cell_type": "markdown",
   "id": "52404842",
   "metadata": {
    "hidden": true
   },
   "source": [
    "- Descrição dos dados\n",
    "    - Substituição de NA's.\n",
    "    \n",
    "- EDA\n",
    "    - Análise Univariada \n",
    "    - Análise Bivariada\n",
    "    - Detecação de outliers\n",
    "    - Seleção de Features\n",
    "    - Estudo do Espaço\n",
    "    - Definição do Embedding\n",
    "    \n",
    "- Treinamento dos algoritmos de ML.\n",
    "    - Análise de Performance.\n",
    "    - Análise de Clustering.\n",
    "    - Definição dos número de clustering.\n",
    "    \n",
    "- EDA - Insights.\n",
    "    - Explicação das características dos segmentos.\n",
    "    \n",
    "- Tabela para armazenar os clientes clusterizados.\n",
    "\n",
    "- Criação do notebook de produção\n",
    "\n",
    "- Arquitetura da AWS.\n",
    "    - S3 para armazenar os dados\n",
    "    - EC2 para armazenar o ETL e a ferramenta de visualização.\n",
    "    - DB para armazenar a tabela\n",
    "    - Cronjob\n",
    "    - Papermill"
   ]
  },
  {
   "cell_type": "markdown",
   "id": "478a2cca",
   "metadata": {},
   "source": [
    "# 0.0. Imports"
   ]
  },
  {
   "cell_type": "markdown",
   "id": "ef9ac76f",
   "metadata": {},
   "source": [
    "## 0.1. Loading data"
   ]
  },
  {
   "cell_type": "markdown",
   "id": "29bc02fb",
   "metadata": {},
   "source": [
    "# 1.0. Data Description"
   ]
  },
  {
   "cell_type": "markdown",
   "id": "835952eb",
   "metadata": {},
   "source": [
    "# 2.0. Data Filtering"
   ]
  },
  {
   "cell_type": "markdown",
   "id": "80d5b375",
   "metadata": {},
   "source": [
    "# 3.0. Feature Engineering"
   ]
  },
  {
   "cell_type": "markdown",
   "id": "4805a91a",
   "metadata": {},
   "source": [
    "# 4.0. EDA - Space Study"
   ]
  },
  {
   "cell_type": "markdown",
   "id": "a327fa6e",
   "metadata": {},
   "source": [
    "# 5.0. Data preparation"
   ]
  },
  {
   "cell_type": "markdown",
   "id": "60683137",
   "metadata": {},
   "source": [
    "# 6.0. Feature Selection"
   ]
  },
  {
   "cell_type": "markdown",
   "id": "dfc450ea",
   "metadata": {},
   "source": [
    "# 7.0. Hiperparmeter Fine Tuning"
   ]
  },
  {
   "cell_type": "markdown",
   "id": "fdfa7df8",
   "metadata": {},
   "source": [
    "# 8.0. Machine Learning Traning"
   ]
  },
  {
   "cell_type": "markdown",
   "id": "28940ed0",
   "metadata": {},
   "source": [
    "# 9.0. Clustering Analysis"
   ]
  },
  {
   "cell_type": "markdown",
   "id": "e70f58cc",
   "metadata": {},
   "source": [
    "# 10.0. EDA - Insight Reports"
   ]
  },
  {
   "cell_type": "markdown",
   "id": "f417a884",
   "metadata": {},
   "source": [
    "# 11.0. Deploy To Production"
   ]
  }
 ],
 "metadata": {
  "kernelspec": {
   "display_name": "Python 3 (ipykernel)",
   "language": "python",
   "name": "python3"
  },
  "language_info": {
   "codemirror_mode": {
    "name": "ipython",
    "version": 3
   },
   "file_extension": ".py",
   "mimetype": "text/x-python",
   "name": "python",
   "nbconvert_exporter": "python",
   "pygments_lexer": "ipython3",
   "version": "3.8.0"
  }
 },
 "nbformat": 4,
 "nbformat_minor": 5
}
