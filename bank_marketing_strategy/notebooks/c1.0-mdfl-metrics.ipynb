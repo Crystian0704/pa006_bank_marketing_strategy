{
 "cells": [
  {
   "cell_type": "markdown",
   "id": "899fb081",
   "metadata": {},
   "source": [
    "# PA 006 - Bank Marketing Strategy"
   ]
  },
  {
   "cell_type": "markdown",
   "id": "85134d33",
   "metadata": {
    "heading_collapsed": true
   },
   "source": [
    "# Planejamento da Solução ( IOT )"
   ]
  },
  {
   "cell_type": "markdown",
   "id": "24d77b7c",
   "metadata": {
    "heading_collapsed": true,
    "hidden": true
   },
   "source": [
    "## Input "
   ]
  },
  {
   "cell_type": "markdown",
   "id": "17665c53",
   "metadata": {
    "hidden": true
   },
   "source": [
    "Você foi contratado como um cientista de dados consultor, para criar um produto de dados que cria uma segmentação de clientes que direcionará a estratégia de marketing e os resultados esperados do seu trabalho de consultoria, são os seguintes:\n",
    "\n",
    "1. Criar uma segmentação de clientes baseado em critérios claros de seleção.\n",
    "2. Tornar a segmentação de clientes acessível para o time de operações.\n",
    "3. Ensinar o time de operações sobre como usar a sua solução.\n",
    "4. Transferir o conhecimento para os Cientistas de Dados da International Bank.\n",
    "5. Recomendar 2-3 alavancas de negócio para cada segmento de clientes."
   ]
  },
  {
   "cell_type": "markdown",
   "id": "e38813d2",
   "metadata": {
    "heading_collapsed": true,
    "hidden": true
   },
   "source": [
    "## Output "
   ]
  },
  {
   "cell_type": "markdown",
   "id": "b55b9a1b",
   "metadata": {
    "hidden": true
   },
   "source": [
    "- Ferramentas:\n",
    "    - Metabase\n",
    "    - Streamlit\n",
    "    \n",
    "- URL para o time de operação testar\n",
    "- Download dos dados selecionados"
   ]
  },
  {
   "cell_type": "markdown",
   "id": "9932325e",
   "metadata": {
    "heading_collapsed": true,
    "hidden": true
   },
   "source": [
    "## Tasks "
   ]
  },
  {
   "cell_type": "markdown",
   "id": "5a3361e8",
   "metadata": {
    "hidden": true
   },
   "source": [
    "- Descrição dos dados\n",
    "    - Substituição de NA's.\n",
    "    \n",
    "- EDA\n",
    "    - Análise Univariada \n",
    "    - Análise Bivariada\n",
    "    - Detecação de outliers\n",
    "    - Seleção de Features\n",
    "    - Estudo do Espaço\n",
    "    - Definição do Embedding\n",
    "    \n",
    "- Treinamento dos algoritmos de ML.\n",
    "    - Análise de Performance.\n",
    "    - Análise de Clustering.\n",
    "    - Definição dos número de clustering.\n",
    "    \n",
    "- EDA - Insights.\n",
    "    - Explicação das características dos segmentos.\n",
    "    \n",
    "- Tabela para armazenar os clientes clusterizados.\n",
    "\n",
    "- Criação do notebook de produção\n",
    "\n",
    "- Arquitetura da AWS.\n",
    "    - S3 para armazenar os dados\n",
    "    - EC2 para armazenar o ETL e a ferramenta de visualização.\n",
    "    - DB para armazenar a tabela\n",
    "    - Cronjob\n",
    "    - Papermill"
   ]
  },
  {
   "cell_type": "markdown",
   "id": "1140a760",
   "metadata": {},
   "source": [
    "# 0.0. Imports"
   ]
  },
  {
   "cell_type": "code",
   "execution_count": 73,
   "id": "31ece7d4",
   "metadata": {
    "ExecuteTime": {
     "end_time": "2021-11-10T00:31:33.562722Z",
     "start_time": "2021-11-10T00:31:32.888233Z"
    }
   },
   "outputs": [],
   "source": [
    "import pandas as pd\n",
    "\n",
    "import seaborn as sns\n",
    "from sklearn import cluster as c\n",
    "from sklearn import metrics as m\n",
    "\n",
    "from matplotlib import pyplot as plt"
   ]
  },
  {
   "cell_type": "markdown",
   "id": "261bfe57",
   "metadata": {},
   "source": [
    "## 0.1. Loading data"
   ]
  },
  {
   "cell_type": "code",
   "execution_count": 7,
   "id": "1c601557",
   "metadata": {
    "ExecuteTime": {
     "end_time": "2021-11-09T23:50:21.015824Z",
     "start_time": "2021-11-09T23:50:20.966910Z"
    }
   },
   "outputs": [],
   "source": [
    "df_raw = pd.read_csv( '../data/raw/cc_general.csv' )"
   ]
  },
  {
   "cell_type": "markdown",
   "id": "cb1a10df",
   "metadata": {},
   "source": [
    "# 1.0. Data Description"
   ]
  },
  {
   "cell_type": "code",
   "execution_count": 10,
   "id": "c61acc9d",
   "metadata": {
    "ExecuteTime": {
     "end_time": "2021-11-09T23:51:36.515463Z",
     "start_time": "2021-11-09T23:51:36.509743Z"
    }
   },
   "outputs": [],
   "source": [
    "df01 = df_raw.copy()"
   ]
  },
  {
   "cell_type": "markdown",
   "id": "f1d612b2",
   "metadata": {},
   "source": [
    "## 1.1. Columns Rename"
   ]
  },
  {
   "cell_type": "code",
   "execution_count": 41,
   "id": "dc93f3d9",
   "metadata": {
    "ExecuteTime": {
     "end_time": "2021-11-10T00:05:54.105252Z",
     "start_time": "2021-11-10T00:05:54.097583Z"
    }
   },
   "outputs": [],
   "source": [
    "df01.columns = df01.columns.str.lower()"
   ]
  },
  {
   "cell_type": "markdown",
   "id": "187bd094",
   "metadata": {},
   "source": [
    "## 1.2. Data Dimensions"
   ]
  },
  {
   "cell_type": "code",
   "execution_count": 43,
   "id": "a1a4ca3a",
   "metadata": {
    "ExecuteTime": {
     "end_time": "2021-11-10T00:06:04.789259Z",
     "start_time": "2021-11-10T00:06:04.784001Z"
    }
   },
   "outputs": [
    {
     "name": "stdout",
     "output_type": "stream",
     "text": [
      "Number of rows: 8950\n",
      "Number of cols: 18\n"
     ]
    }
   ],
   "source": [
    "print( 'Number of rows: {}'.format( df01.shape[0] ) )\n",
    "print( 'Number of cols: {}'.format( df01.shape[1] ) )"
   ]
  },
  {
   "cell_type": "markdown",
   "id": "bcf82266",
   "metadata": {},
   "source": [
    "## 1.3. Data Types"
   ]
  },
  {
   "cell_type": "code",
   "execution_count": 44,
   "id": "4d8a339c",
   "metadata": {
    "ExecuteTime": {
     "end_time": "2021-11-10T00:06:55.367583Z",
     "start_time": "2021-11-10T00:06:55.349841Z"
    }
   },
   "outputs": [
    {
     "data": {
      "text/plain": [
       "cust_id                              object\n",
       "balance                             float64\n",
       "balance_frequency                   float64\n",
       "purchases                           float64\n",
       "oneoff_purchases                    float64\n",
       "installments_purchases              float64\n",
       "cash_advance                        float64\n",
       "purchases_frequency                 float64\n",
       "oneoff_purchases_frequency          float64\n",
       "purchases_installments_frequency    float64\n",
       "cash_advance_frequency              float64\n",
       "cash_advance_trx                      int64\n",
       "purchases_trx                         int64\n",
       "credit_limit                        float64\n",
       "payments                            float64\n",
       "minimum_payments                    float64\n",
       "prc_full_payment                    float64\n",
       "tenure                                int64\n",
       "dtype: object"
      ]
     },
     "execution_count": 44,
     "metadata": {},
     "output_type": "execute_result"
    }
   ],
   "source": [
    "df01.dtypes"
   ]
  },
  {
   "cell_type": "markdown",
   "id": "b3359922",
   "metadata": {},
   "source": [
    "## 1.4. Check Missing Values"
   ]
  },
  {
   "cell_type": "code",
   "execution_count": 48,
   "id": "df1d8dcb",
   "metadata": {
    "ExecuteTime": {
     "end_time": "2021-11-10T00:10:02.397742Z",
     "start_time": "2021-11-10T00:10:02.387203Z"
    },
    "cell_style": "split"
   },
   "outputs": [
    {
     "data": {
      "text/plain": [
       "cust_id                               0\n",
       "balance                               0\n",
       "balance_frequency                     0\n",
       "purchases                             0\n",
       "oneoff_purchases                      0\n",
       "installments_purchases                0\n",
       "cash_advance                          0\n",
       "purchases_frequency                   0\n",
       "oneoff_purchases_frequency            0\n",
       "purchases_installments_frequency      0\n",
       "cash_advance_frequency                0\n",
       "cash_advance_trx                      0\n",
       "purchases_trx                         0\n",
       "credit_limit                          1\n",
       "payments                              0\n",
       "minimum_payments                    313\n",
       "prc_full_payment                      0\n",
       "tenure                                0\n",
       "dtype: int64"
      ]
     },
     "execution_count": 48,
     "metadata": {},
     "output_type": "execute_result"
    }
   ],
   "source": [
    "df01.isna().sum()"
   ]
  },
  {
   "cell_type": "code",
   "execution_count": 49,
   "id": "4ba17fa6",
   "metadata": {
    "ExecuteTime": {
     "end_time": "2021-11-10T00:11:17.986083Z",
     "start_time": "2021-11-10T00:11:17.975002Z"
    },
    "cell_style": "split"
   },
   "outputs": [
    {
     "data": {
      "text/plain": [
       "cust_id                             0.000000\n",
       "balance                             0.000000\n",
       "balance_frequency                   0.000000\n",
       "purchases                           0.000000\n",
       "oneoff_purchases                    0.000000\n",
       "installments_purchases              0.000000\n",
       "cash_advance                        0.000000\n",
       "purchases_frequency                 0.000000\n",
       "oneoff_purchases_frequency          0.000000\n",
       "purchases_installments_frequency    0.000000\n",
       "cash_advance_frequency              0.000000\n",
       "cash_advance_trx                    0.000000\n",
       "purchases_trx                       0.000000\n",
       "credit_limit                        0.000112\n",
       "payments                            0.000000\n",
       "minimum_payments                    0.034972\n",
       "prc_full_payment                    0.000000\n",
       "tenure                              0.000000\n",
       "dtype: float64"
      ]
     },
     "execution_count": 49,
     "metadata": {},
     "output_type": "execute_result"
    }
   ],
   "source": [
    "df01.isna().sum() / df01.shape[0]"
   ]
  },
  {
   "cell_type": "markdown",
   "id": "5580b647",
   "metadata": {},
   "source": [
    "## 1.5. Replace Missing Values"
   ]
  },
  {
   "cell_type": "code",
   "execution_count": 50,
   "id": "1fc140ae",
   "metadata": {
    "ExecuteTime": {
     "end_time": "2021-11-10T00:13:33.300289Z",
     "start_time": "2021-11-10T00:13:33.290308Z"
    }
   },
   "outputs": [],
   "source": [
    "df01 = df01.dropna()"
   ]
  },
  {
   "cell_type": "code",
   "execution_count": 51,
   "id": "a1a296e4",
   "metadata": {
    "ExecuteTime": {
     "end_time": "2021-11-10T00:13:40.419784Z",
     "start_time": "2021-11-10T00:13:40.407444Z"
    }
   },
   "outputs": [
    {
     "data": {
      "text/plain": [
       "cust_id                             0\n",
       "balance                             0\n",
       "balance_frequency                   0\n",
       "purchases                           0\n",
       "oneoff_purchases                    0\n",
       "installments_purchases              0\n",
       "cash_advance                        0\n",
       "purchases_frequency                 0\n",
       "oneoff_purchases_frequency          0\n",
       "purchases_installments_frequency    0\n",
       "cash_advance_frequency              0\n",
       "cash_advance_trx                    0\n",
       "purchases_trx                       0\n",
       "credit_limit                        0\n",
       "payments                            0\n",
       "minimum_payments                    0\n",
       "prc_full_payment                    0\n",
       "tenure                              0\n",
       "dtype: int64"
      ]
     },
     "execution_count": 51,
     "metadata": {},
     "output_type": "execute_result"
    }
   ],
   "source": [
    "df01.isna().sum()"
   ]
  },
  {
   "cell_type": "markdown",
   "id": "f79c0d69",
   "metadata": {},
   "source": [
    "# 2.0. Data Filtering"
   ]
  },
  {
   "cell_type": "markdown",
   "id": "c9acce86",
   "metadata": {},
   "source": [
    "# 3.0. Feature Engineering"
   ]
  },
  {
   "cell_type": "markdown",
   "id": "397405b7",
   "metadata": {},
   "source": [
    "# 4.0. EDA - Space Study"
   ]
  },
  {
   "cell_type": "markdown",
   "id": "82a0e904",
   "metadata": {},
   "source": [
    "# 5.0. Data preparation"
   ]
  },
  {
   "cell_type": "markdown",
   "id": "c3f587d5",
   "metadata": {},
   "source": [
    "# 6.0. Feature Selection"
   ]
  },
  {
   "cell_type": "code",
   "execution_count": 78,
   "id": "4b3c5d07",
   "metadata": {
    "ExecuteTime": {
     "end_time": "2021-11-10T00:32:29.263994Z",
     "start_time": "2021-11-10T00:32:29.258045Z"
    }
   },
   "outputs": [],
   "source": [
    "cols_drop = ['cust_id']\n",
    "X = df01.drop( columns=cols_drop )"
   ]
  },
  {
   "cell_type": "markdown",
   "id": "4bccd04a",
   "metadata": {},
   "source": [
    "# 7.0. Hiperparmeter Fine Tuning"
   ]
  },
  {
   "cell_type": "markdown",
   "id": "17d8ab36",
   "metadata": {},
   "source": [
    "## 7.1. K-Means"
   ]
  },
  {
   "cell_type": "code",
   "execution_count": 67,
   "id": "12b9b21e",
   "metadata": {
    "ExecuteTime": {
     "end_time": "2021-11-10T00:25:59.454086Z",
     "start_time": "2021-11-10T00:25:39.726216Z"
    }
   },
   "outputs": [],
   "source": [
    "clusters = [ 2, 3, 4, 5, 6, 7, 8]\n",
    "\n",
    "silhouette_list = []\n",
    "davies_list = []\n",
    "for k in clusters:\n",
    "    # model definition\n",
    "    kmeans_model = c.KMeans( n_clusters=k )\n",
    "    \n",
    "    # model training\n",
    "    kmeans_model.fit( X )\n",
    "    \n",
    "    # model predict\n",
    "    labels = kmeans_model.predict( X )\n",
    "    \n",
    "    # model performance\n",
    "    sil  = m.silhouette_score( X, labels )\n",
    "    dav  =  m.davies_bouldin_score( X, labels )\n",
    "    \n",
    "    silhouette_list.append( sil )\n",
    "    davies_list.append( dav )"
   ]
  },
  {
   "cell_type": "code",
   "execution_count": 65,
   "id": "334582bc",
   "metadata": {
    "ExecuteTime": {
     "end_time": "2021-11-10T00:23:04.449705Z",
     "start_time": "2021-11-10T00:23:04.115091Z"
    },
    "cell_style": "center"
   },
   "outputs": [
    {
     "data": {
      "image/png": "[encoded data removed]",
      "text/plain": [
       "<Figure size 1440x720 with 1 Axes>"
      ]
     },
     "metadata": {
      "needs_background": "light"
     },
     "output_type": "display_data"
    }
   ],
   "source": [
    "plt.figure( figsize=(20, 10))\n",
    "plt.plot( clusters, silhouette_list, linestyle='--', marker='o', color='b' )\n",
    "plt.xlabel( 'K - Number of clusters' )\n",
    "plt.ylabel( 'SS - Silhouette Score' )\n",
    "plt.title( 'Silhouette Score' );"
   ]
  },
  {
   "cell_type": "code",
   "execution_count": 69,
   "id": "06c5445c",
   "metadata": {
    "ExecuteTime": {
     "end_time": "2021-11-10T00:26:22.999093Z",
     "start_time": "2021-11-10T00:26:22.478037Z"
    },
    "cell_style": "center"
   },
   "outputs": [
    {
     "data": {
      "image/png": "[encoded data removed]",
      "text/plain": [
       "<Figure size 1440x720 with 1 Axes>"
      ]
     },
     "metadata": {
      "needs_background": "light"
     },
     "output_type": "display_data"
    }
   ],
   "source": [
    "plt.figure( figsize=(20, 10))\n",
    "plt.plot( clusters, davies_list, linestyle='--', marker='o', color='b' )\n",
    "plt.xlabel( 'K - Number of clusters' )\n",
    "plt.ylabel( 'DB Score' )\n",
    "plt.title( 'DB Index' );"
   ]
  },
  {
   "cell_type": "markdown",
   "id": "c354b6e7",
   "metadata": {},
   "source": [
    "# 8.0. Machine Learning Traning"
   ]
  },
  {
   "cell_type": "markdown",
   "id": "edb8f999",
   "metadata": {},
   "source": [
    "# 9.0. Clustering Analysis"
   ]
  },
  {
   "cell_type": "markdown",
   "id": "87ed3962",
   "metadata": {},
   "source": [
    "# 10.0. EDA - Insight Reports"
   ]
  },
  {
   "cell_type": "markdown",
   "id": "6dcece18",
   "metadata": {},
   "source": [
    "# 11.0. Deploy To Production"
   ]
  }
 ],
 "metadata": {
  "kernelspec": {
   "display_name": "Python 3 (ipykernel)",
   "language": "python",
   "name": "python3"
  },
  "language_info": {
   "codemirror_mode": {
    "name": "ipython",
    "version": 3
   },
   "file_extension": ".py",
   "mimetype": "text/x-python",
   "name": "python",
   "nbconvert_exporter": "python",
   "pygments_lexer": "ipython3",
   "version": "3.8.0"
  }
 },
 "nbformat": 4,
 "nbformat_minor": 5
}
