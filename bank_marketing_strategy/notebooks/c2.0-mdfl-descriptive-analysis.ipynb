{
 "cells": [
  {
   "cell_type": "markdown",
   "id": "899fb081",
   "metadata": {},
   "source": [
    "# PA 006 - Bank Marketing Strategy"
   ]
  },
  {
   "cell_type": "markdown",
   "id": "85134d33",
   "metadata": {},
   "source": [
    "# Planejamento da Solução ( IOT )"
   ]
  },
  {
   "cell_type": "markdown",
   "id": "24d77b7c",
   "metadata": {},
   "source": [
    "## Input "
   ]
  },
  {
   "cell_type": "markdown",
   "id": "17665c53",
   "metadata": {},
   "source": [
    "Você foi contratado como um cientista de dados consultor, para criar um produto de dados que cria uma segmentação de clientes que direcionará a estratégia de marketing e os resultados esperados do seu trabalho de consultoria, são os seguintes:\n",
    "\n",
    "1. Criar uma segmentação de clientes baseado em critérios claros de seleção.\n",
    "2. Tornar a segmentação de clientes acessível para o time de operações.\n",
    "3. Ensinar o time de operações sobre como usar a sua solução.\n",
    "4. Transferir o conhecimento para os Cientistas de Dados da International Bank.\n",
    "5. Recomendar 2-3 alavancas de negócio para cada segmento de clientes."
   ]
  },
  {
   "cell_type": "markdown",
   "id": "e38813d2",
   "metadata": {},
   "source": [
    "## Output "
   ]
  },
  {
   "cell_type": "markdown",
   "id": "b55b9a1b",
   "metadata": {},
   "source": [
    "- Ferramentas:\n",
    "    - Metabase\n",
    "    - Streamlit\n",
    "    \n",
    "- URL para o time de operação testar\n",
    "- Download dos dados selecionados"
   ]
  },
  {
   "cell_type": "markdown",
   "id": "9932325e",
   "metadata": {},
   "source": [
    "## Tasks "
   ]
  },
  {
   "cell_type": "markdown",
   "id": "5a3361e8",
   "metadata": {},
   "source": [
    "- Descrição dos dados\n",
    "    - Substituição de NA's.\n",
    "    \n",
    "- EDA\n",
    "    - Análise Univariada \n",
    "    - Análise Bivariada\n",
    "    - Detecação de outliers\n",
    "    - Seleção de Features\n",
    "    - Estudo do Espaço\n",
    "    - Definição do Embedding\n",
    "    \n",
    "- Treinamento dos algoritmos de ML.\n",
    "    - Análise de Performance.\n",
    "    - Análise de Clustering.\n",
    "    - Definição dos número de clustering.\n",
    "    \n",
    "- EDA - Insights.\n",
    "    - Explicação das características dos segmentos.\n",
    "    \n",
    "- Tabela para armazenar os clientes clusterizados.\n",
    "\n",
    "- Criação do notebook de produção\n",
    "\n",
    "- Arquitetura da AWS.\n",
    "    - S3 para armazenar os dados\n",
    "    - EC2 para armazenar o ETL e a ferramenta de visualização.\n",
    "    - DB para armazenar a tabela\n",
    "    - Cronjob\n",
    "    - Papermill"
   ]
  },
  {
   "cell_type": "markdown",
   "id": "1140a760",
   "metadata": {},
   "source": [
    "# 0.0. Imports"
   ]
  },
  {
   "cell_type": "code",
   "execution_count": 16,
   "id": "4d61c962",
   "metadata": {
    "ExecuteTime": {
     "end_time": "2021-12-02T22:16:14.550565Z",
     "start_time": "2021-12-02T22:16:14.535472Z"
    }
   },
   "outputs": [],
   "source": [
    "import pandas as pd\n",
    "import numpy  as np\n",
    "\n",
    "import seaborn as sns\n",
    "from sklearn import cluster as c\n",
    "from sklearn import metrics as m\n",
    "\n",
    "from matplotlib import pyplot as plt"
   ]
  },
  {
   "cell_type": "markdown",
   "id": "261bfe57",
   "metadata": {},
   "source": [
    "## 0.1. Loading data"
   ]
  },
  {
   "cell_type": "code",
   "execution_count": 17,
   "id": "602b7037",
   "metadata": {
    "ExecuteTime": {
     "end_time": "2021-12-02T22:16:15.475139Z",
     "start_time": "2021-12-02T22:16:15.416354Z"
    }
   },
   "outputs": [],
   "source": [
    "df_raw = pd.read_csv( '../data/raw/cc_general.csv' )"
   ]
  },
  {
   "cell_type": "markdown",
   "id": "cb1a10df",
   "metadata": {},
   "source": [
    "# 1.0. Data Description"
   ]
  },
  {
   "cell_type": "code",
   "execution_count": 18,
   "id": "0b7e62b7",
   "metadata": {
    "ExecuteTime": {
     "end_time": "2021-12-02T22:16:15.986698Z",
     "start_time": "2021-12-02T22:16:15.980627Z"
    }
   },
   "outputs": [],
   "source": [
    "df01 = df_raw.copy()"
   ]
  },
  {
   "cell_type": "markdown",
   "id": "13ff8593",
   "metadata": {},
   "source": [
    "## 1.1. Columns Rename"
   ]
  },
  {
   "cell_type": "code",
   "execution_count": 19,
   "id": "b00509be",
   "metadata": {
    "ExecuteTime": {
     "end_time": "2021-12-02T22:16:16.349223Z",
     "start_time": "2021-12-02T22:16:16.345511Z"
    }
   },
   "outputs": [],
   "source": [
    "df01.columns = df01.columns.str.lower()"
   ]
  },
  {
   "cell_type": "markdown",
   "id": "2f5f6a90",
   "metadata": {},
   "source": [
    "## 1.2. Data Dimensions"
   ]
  },
  {
   "cell_type": "code",
   "execution_count": 20,
   "id": "79fa8cbb",
   "metadata": {
    "ExecuteTime": {
     "end_time": "2021-12-02T22:16:16.699631Z",
     "start_time": "2021-12-02T22:16:16.695250Z"
    }
   },
   "outputs": [
    {
     "name": "stdout",
     "output_type": "stream",
     "text": [
      "Number of rows: 8950\n",
      "Number of cols: 18\n"
     ]
    }
   ],
   "source": [
    "print( 'Number of rows: {}'.format( df01.shape[0] ) )\n",
    "print( 'Number of cols: {}'.format( df01.shape[1] ) )"
   ]
  },
  {
   "cell_type": "markdown",
   "id": "2dd4e54c",
   "metadata": {},
   "source": [
    "## 1.3. Data Types"
   ]
  },
  {
   "cell_type": "code",
   "execution_count": 21,
   "id": "d3abd467",
   "metadata": {
    "ExecuteTime": {
     "end_time": "2021-12-02T22:16:17.037755Z",
     "start_time": "2021-12-02T22:16:17.023884Z"
    }
   },
   "outputs": [
    {
     "data": {
      "text/plain": [
       "cust_id                              object\n",
       "balance                             float64\n",
       "balance_frequency                   float64\n",
       "purchases                           float64\n",
       "oneoff_purchases                    float64\n",
       "installments_purchases              float64\n",
       "cash_advance                        float64\n",
       "purchases_frequency                 float64\n",
       "oneoff_purchases_frequency          float64\n",
       "purchases_installments_frequency    float64\n",
       "cash_advance_frequency              float64\n",
       "cash_advance_trx                      int64\n",
       "purchases_trx                         int64\n",
       "credit_limit                        float64\n",
       "payments                            float64\n",
       "minimum_payments                    float64\n",
       "prc_full_payment                    float64\n",
       "tenure                                int64\n",
       "dtype: object"
      ]
     },
     "execution_count": 21,
     "metadata": {},
     "output_type": "execute_result"
    }
   ],
   "source": [
    "df01.dtypes"
   ]
  },
  {
   "cell_type": "markdown",
   "id": "efb1db92",
   "metadata": {},
   "source": [
    "## 1.4. Check Missing Values"
   ]
  },
  {
   "cell_type": "code",
   "execution_count": 22,
   "id": "00fff793",
   "metadata": {
    "ExecuteTime": {
     "end_time": "2021-12-02T22:16:17.358517Z",
     "start_time": "2021-12-02T22:16:17.346776Z"
    },
    "cell_style": "split"
   },
   "outputs": [
    {
     "data": {
      "text/plain": [
       "cust_id                               0\n",
       "balance                               0\n",
       "balance_frequency                     0\n",
       "purchases                             0\n",
       "oneoff_purchases                      0\n",
       "installments_purchases                0\n",
       "cash_advance                          0\n",
       "purchases_frequency                   0\n",
       "oneoff_purchases_frequency            0\n",
       "purchases_installments_frequency      0\n",
       "cash_advance_frequency                0\n",
       "cash_advance_trx                      0\n",
       "purchases_trx                         0\n",
       "credit_limit                          1\n",
       "payments                              0\n",
       "minimum_payments                    313\n",
       "prc_full_payment                      0\n",
       "tenure                                0\n",
       "dtype: int64"
      ]
     },
     "execution_count": 22,
     "metadata": {},
     "output_type": "execute_result"
    }
   ],
   "source": [
    "df01.isna().sum()"
   ]
  },
  {
   "cell_type": "code",
   "execution_count": 23,
   "id": "6af04b9c",
   "metadata": {
    "ExecuteTime": {
     "end_time": "2021-12-02T22:16:17.504166Z",
     "start_time": "2021-12-02T22:16:17.493917Z"
    },
    "cell_style": "split"
   },
   "outputs": [
    {
     "data": {
      "text/plain": [
       "cust_id                             0.000000\n",
       "balance                             0.000000\n",
       "balance_frequency                   0.000000\n",
       "purchases                           0.000000\n",
       "oneoff_purchases                    0.000000\n",
       "installments_purchases              0.000000\n",
       "cash_advance                        0.000000\n",
       "purchases_frequency                 0.000000\n",
       "oneoff_purchases_frequency          0.000000\n",
       "purchases_installments_frequency    0.000000\n",
       "cash_advance_frequency              0.000000\n",
       "cash_advance_trx                    0.000000\n",
       "purchases_trx                       0.000000\n",
       "credit_limit                        0.000112\n",
       "payments                            0.000000\n",
       "minimum_payments                    0.034972\n",
       "prc_full_payment                    0.000000\n",
       "tenure                              0.000000\n",
       "dtype: float64"
      ]
     },
     "execution_count": 23,
     "metadata": {},
     "output_type": "execute_result"
    }
   ],
   "source": [
    "df01.isna().sum() / df01.shape[0]"
   ]
  },
  {
   "cell_type": "markdown",
   "id": "4952fb55",
   "metadata": {},
   "source": [
    "## 1.5. Replace Missing Values"
   ]
  },
  {
   "cell_type": "code",
   "execution_count": 24,
   "id": "0deca4fd",
   "metadata": {
    "ExecuteTime": {
     "end_time": "2021-12-02T22:16:17.888147Z",
     "start_time": "2021-12-02T22:16:17.847947Z"
    }
   },
   "outputs": [],
   "source": [
    "df01 = df01.dropna()"
   ]
  },
  {
   "cell_type": "code",
   "execution_count": 25,
   "id": "d1fd9db4",
   "metadata": {
    "ExecuteTime": {
     "end_time": "2021-12-02T22:16:18.004094Z",
     "start_time": "2021-12-02T22:16:17.994221Z"
    }
   },
   "outputs": [
    {
     "data": {
      "text/plain": [
       "cust_id                             0\n",
       "balance                             0\n",
       "balance_frequency                   0\n",
       "purchases                           0\n",
       "oneoff_purchases                    0\n",
       "installments_purchases              0\n",
       "cash_advance                        0\n",
       "purchases_frequency                 0\n",
       "oneoff_purchases_frequency          0\n",
       "purchases_installments_frequency    0\n",
       "cash_advance_frequency              0\n",
       "cash_advance_trx                    0\n",
       "purchases_trx                       0\n",
       "credit_limit                        0\n",
       "payments                            0\n",
       "minimum_payments                    0\n",
       "prc_full_payment                    0\n",
       "tenure                              0\n",
       "dtype: int64"
      ]
     },
     "execution_count": 25,
     "metadata": {},
     "output_type": "execute_result"
    }
   ],
   "source": [
    "df01.isna().sum()"
   ]
  },
  {
   "cell_type": "markdown",
   "id": "d4e04a3e",
   "metadata": {},
   "source": [
    "## 1.6. Descriptive Statistics"
   ]
  },
  {
   "cell_type": "code",
   "execution_count": 26,
   "id": "22443dcf",
   "metadata": {
    "ExecuteTime": {
     "end_time": "2021-12-02T22:16:18.357312Z",
     "start_time": "2021-12-02T22:16:18.349265Z"
    }
   },
   "outputs": [],
   "source": [
    "#1. Estimativas de Localização\n",
    "#    1. Média\n",
    "#    2. Mediana\n",
    "#    3. Mínimo\n",
    "#    4. Máximo\n",
    "#    \n",
    "#2. Estimativas de Variabilidade\n",
    "#    1. Desvio\n",
    "#    2. Variância\n",
    "#    3. Desvio Padrão\n",
    "#    4. Range ( Intervalo )\n",
    "#    \n",
    "#3. Skewness\n",
    "#4. Kurtosis"
   ]
  },
  {
   "cell_type": "code",
   "execution_count": 27,
   "id": "f6323082",
   "metadata": {
    "ExecuteTime": {
     "end_time": "2021-12-02T22:16:18.504496Z",
     "start_time": "2021-12-02T22:16:18.495962Z"
    }
   },
   "outputs": [],
   "source": [
    "num_attributes = df01.select_dtypes( include=['int64', 'float64'] )\n",
    "cat_attributes = df01.select_dtypes( exclude=['int64', 'float64', 'datetime64[ns]'] )"
   ]
  },
  {
   "cell_type": "markdown",
   "id": "643e268b",
   "metadata": {},
   "source": [
    "### 1.6.1. Numerical attributes"
   ]
  },
  {
   "cell_type": "code",
   "execution_count": 28,
   "id": "00bc1260",
   "metadata": {
    "ExecuteTime": {
     "end_time": "2021-12-02T22:16:19.071033Z",
     "start_time": "2021-12-02T22:16:18.906277Z"
    }
   },
   "outputs": [
    {
     "data": {
      "text/html": [
       "<div>\n",
       "<style scoped>\n",
       "    .dataframe tbody tr th:only-of-type {\n",
       "        vertical-align: middle;\n",
       "    }\n",
       "\n",
       "    .dataframe tbody tr th {\n",
       "        vertical-align: top;\n",
       "    }\n",
       "\n",
       "    .dataframe thead th {\n",
       "        text-align: right;\n",
       "    }\n",
       "</style>\n",
       "<table border=\"1\" class=\"dataframe\">\n",
       "  <thead>\n",
       "    <tr style=\"text-align: right;\">\n",
       "      <th></th>\n",
       "      <th>attributes</th>\n",
       "      <th>min</th>\n",
       "      <th>max</th>\n",
       "      <th>range</th>\n",
       "      <th>media</th>\n",
       "      <th>mediana</th>\n",
       "      <th>desvio_padrao</th>\n",
       "      <th>skewness</th>\n",
       "      <th>kurtosis</th>\n",
       "      <th>P10</th>\n",
       "      <th>P25</th>\n",
       "      <th>P50</th>\n",
       "      <th>P75</th>\n",
       "      <th>P95</th>\n",
       "      <th>P99</th>\n",
       "    </tr>\n",
       "  </thead>\n",
       "  <tbody>\n",
       "    <tr>\n",
       "      <th>0</th>\n",
       "      <td>balance</td>\n",
       "      <td>0.000000</td>\n",
       "      <td>19043.13856</td>\n",
       "      <td>19043.138560</td>\n",
       "      <td>1601.224893</td>\n",
       "      <td>916.855459</td>\n",
       "      <td>2095.449969</td>\n",
       "      <td>2.374254</td>\n",
       "      <td>7.553876</td>\n",
       "      <td>29.093764</td>\n",
       "      <td>148.095189</td>\n",
       "      <td>916.855459</td>\n",
       "      <td>2105.195853</td>\n",
       "      <td>5936.635587</td>\n",
       "      <td>9369.550879</td>\n",
       "    </tr>\n",
       "    <tr>\n",
       "      <th>1</th>\n",
       "      <td>balance_frequency</td>\n",
       "      <td>0.000000</td>\n",
       "      <td>1.00000</td>\n",
       "      <td>1.000000</td>\n",
       "      <td>0.895035</td>\n",
       "      <td>1.000000</td>\n",
       "      <td>0.207685</td>\n",
       "      <td>-2.084161</td>\n",
       "      <td>3.369586</td>\n",
       "      <td>0.545455</td>\n",
       "      <td>0.909091</td>\n",
       "      <td>1.000000</td>\n",
       "      <td>1.000000</td>\n",
       "      <td>1.000000</td>\n",
       "      <td>1.000000</td>\n",
       "    </tr>\n",
       "    <tr>\n",
       "      <th>2</th>\n",
       "      <td>purchases</td>\n",
       "      <td>0.000000</td>\n",
       "      <td>49039.57000</td>\n",
       "      <td>49039.570000</td>\n",
       "      <td>1025.433874</td>\n",
       "      <td>375.405000</td>\n",
       "      <td>2166.982511</td>\n",
       "      <td>8.055789</td>\n",
       "      <td>108.677684</td>\n",
       "      <td>0.000000</td>\n",
       "      <td>43.367500</td>\n",
       "      <td>375.405000</td>\n",
       "      <td>1145.980000</td>\n",
       "      <td>4060.092500</td>\n",
       "      <td>9127.092000</td>\n",
       "    </tr>\n",
       "    <tr>\n",
       "      <th>3</th>\n",
       "      <td>oneoff_purchases</td>\n",
       "      <td>0.000000</td>\n",
       "      <td>40761.25000</td>\n",
       "      <td>40761.250000</td>\n",
       "      <td>604.901438</td>\n",
       "      <td>44.995000</td>\n",
       "      <td>1684.210284</td>\n",
       "      <td>9.935776</td>\n",
       "      <td>160.121308</td>\n",
       "      <td>0.000000</td>\n",
       "      <td>0.000000</td>\n",
       "      <td>44.995000</td>\n",
       "      <td>599.100000</td>\n",
       "      <td>2728.372500</td>\n",
       "      <td>6783.896500</td>\n",
       "    </tr>\n",
       "    <tr>\n",
       "      <th>4</th>\n",
       "      <td>installments_purchases</td>\n",
       "      <td>0.000000</td>\n",
       "      <td>22500.00000</td>\n",
       "      <td>22500.000000</td>\n",
       "      <td>420.843533</td>\n",
       "      <td>94.785000</td>\n",
       "      <td>917.192075</td>\n",
       "      <td>7.216133</td>\n",
       "      <td>94.193373</td>\n",
       "      <td>0.000000</td>\n",
       "      <td>0.000000</td>\n",
       "      <td>94.785000</td>\n",
       "      <td>484.147500</td>\n",
       "      <td>1800.000000</td>\n",
       "      <td>3916.483000</td>\n",
       "    </tr>\n",
       "    <tr>\n",
       "      <th>5</th>\n",
       "      <td>cash_advance</td>\n",
       "      <td>0.000000</td>\n",
       "      <td>47137.21176</td>\n",
       "      <td>47137.211760</td>\n",
       "      <td>994.175523</td>\n",
       "      <td>0.000000</td>\n",
       "      <td>2121.335473</td>\n",
       "      <td>5.139629</td>\n",
       "      <td>52.143523</td>\n",
       "      <td>0.000000</td>\n",
       "      <td>0.000000</td>\n",
       "      <td>0.000000</td>\n",
       "      <td>1132.385490</td>\n",
       "      <td>4721.415498</td>\n",
       "      <td>9681.634354</td>\n",
       "    </tr>\n",
       "    <tr>\n",
       "      <th>6</th>\n",
       "      <td>purchases_frequency</td>\n",
       "      <td>0.000000</td>\n",
       "      <td>1.00000</td>\n",
       "      <td>1.000000</td>\n",
       "      <td>0.496000</td>\n",
       "      <td>0.500000</td>\n",
       "      <td>0.401249</td>\n",
       "      <td>0.033041</td>\n",
       "      <td>-1.638001</td>\n",
       "      <td>0.000000</td>\n",
       "      <td>0.083333</td>\n",
       "      <td>0.500000</td>\n",
       "      <td>0.916667</td>\n",
       "      <td>1.000000</td>\n",
       "      <td>1.000000</td>\n",
       "    </tr>\n",
       "    <tr>\n",
       "      <th>7</th>\n",
       "      <td>oneoff_purchases_frequency</td>\n",
       "      <td>0.000000</td>\n",
       "      <td>1.00000</td>\n",
       "      <td>1.000000</td>\n",
       "      <td>0.205909</td>\n",
       "      <td>0.083333</td>\n",
       "      <td>0.300036</td>\n",
       "      <td>1.504234</td>\n",
       "      <td>1.058206</td>\n",
       "      <td>0.000000</td>\n",
       "      <td>0.000000</td>\n",
       "      <td>0.083333</td>\n",
       "      <td>0.333333</td>\n",
       "      <td>1.000000</td>\n",
       "      <td>1.000000</td>\n",
       "    </tr>\n",
       "    <tr>\n",
       "      <th>8</th>\n",
       "      <td>purchases_installments_frequency</td>\n",
       "      <td>0.000000</td>\n",
       "      <td>1.00000</td>\n",
       "      <td>1.000000</td>\n",
       "      <td>0.368820</td>\n",
       "      <td>0.166667</td>\n",
       "      <td>0.398070</td>\n",
       "      <td>0.487753</td>\n",
       "      <td>-1.419279</td>\n",
       "      <td>0.000000</td>\n",
       "      <td>0.000000</td>\n",
       "      <td>0.166667</td>\n",
       "      <td>0.750000</td>\n",
       "      <td>1.000000</td>\n",
       "      <td>1.000000</td>\n",
       "    </tr>\n",
       "    <tr>\n",
       "      <th>9</th>\n",
       "      <td>cash_advance_frequency</td>\n",
       "      <td>0.000000</td>\n",
       "      <td>1.50000</td>\n",
       "      <td>1.500000</td>\n",
       "      <td>0.137604</td>\n",
       "      <td>0.000000</td>\n",
       "      <td>0.201780</td>\n",
       "      <td>1.795915</td>\n",
       "      <td>3.184233</td>\n",
       "      <td>0.000000</td>\n",
       "      <td>0.000000</td>\n",
       "      <td>0.000000</td>\n",
       "      <td>0.250000</td>\n",
       "      <td>0.583333</td>\n",
       "      <td>0.833333</td>\n",
       "    </tr>\n",
       "    <tr>\n",
       "      <th>10</th>\n",
       "      <td>cash_advance_trx</td>\n",
       "      <td>0.000000</td>\n",
       "      <td>123.00000</td>\n",
       "      <td>123.000000</td>\n",
       "      <td>3.313918</td>\n",
       "      <td>0.000000</td>\n",
       "      <td>6.912106</td>\n",
       "      <td>5.673327</td>\n",
       "      <td>60.428523</td>\n",
       "      <td>0.000000</td>\n",
       "      <td>0.000000</td>\n",
       "      <td>0.000000</td>\n",
       "      <td>4.000000</td>\n",
       "      <td>15.000000</td>\n",
       "      <td>30.000000</td>\n",
       "    </tr>\n",
       "    <tr>\n",
       "      <th>11</th>\n",
       "      <td>purchases_trx</td>\n",
       "      <td>0.000000</td>\n",
       "      <td>358.00000</td>\n",
       "      <td>358.000000</td>\n",
       "      <td>15.033233</td>\n",
       "      <td>7.000000</td>\n",
       "      <td>25.179010</td>\n",
       "      <td>4.578418</td>\n",
       "      <td>33.952279</td>\n",
       "      <td>0.000000</td>\n",
       "      <td>1.000000</td>\n",
       "      <td>7.000000</td>\n",
       "      <td>18.000000</td>\n",
       "      <td>59.000000</td>\n",
       "      <td>117.650000</td>\n",
       "    </tr>\n",
       "    <tr>\n",
       "      <th>12</th>\n",
       "      <td>credit_limit</td>\n",
       "      <td>50.000000</td>\n",
       "      <td>30000.00000</td>\n",
       "      <td>29950.000000</td>\n",
       "      <td>4522.091030</td>\n",
       "      <td>3000.000000</td>\n",
       "      <td>3659.028513</td>\n",
       "      <td>1.507019</td>\n",
       "      <td>2.773473</td>\n",
       "      <td>1200.000000</td>\n",
       "      <td>1600.000000</td>\n",
       "      <td>3000.000000</td>\n",
       "      <td>6500.000000</td>\n",
       "      <td>12000.000000</td>\n",
       "      <td>17000.000000</td>\n",
       "    </tr>\n",
       "    <tr>\n",
       "      <th>13</th>\n",
       "      <td>payments</td>\n",
       "      <td>0.049513</td>\n",
       "      <td>50721.48336</td>\n",
       "      <td>50721.433847</td>\n",
       "      <td>1784.478099</td>\n",
       "      <td>896.675701</td>\n",
       "      <td>2909.641616</td>\n",
       "      <td>5.873049</td>\n",
       "      <td>54.270814</td>\n",
       "      <td>214.777650</td>\n",
       "      <td>418.559237</td>\n",
       "      <td>896.675701</td>\n",
       "      <td>1951.142090</td>\n",
       "      <td>6152.318659</td>\n",
       "      <td>13657.620792</td>\n",
       "    </tr>\n",
       "    <tr>\n",
       "      <th>14</th>\n",
       "      <td>minimum_payments</td>\n",
       "      <td>0.019163</td>\n",
       "      <td>76406.20752</td>\n",
       "      <td>76406.188357</td>\n",
       "      <td>864.304943</td>\n",
       "      <td>312.452292</td>\n",
       "      <td>2372.428981</td>\n",
       "      <td>13.622193</td>\n",
       "      <td>283.963042</td>\n",
       "      <td>106.113465</td>\n",
       "      <td>169.163545</td>\n",
       "      <td>312.452292</td>\n",
       "      <td>825.496463</td>\n",
       "      <td>2766.593894</td>\n",
       "      <td>9037.885662</td>\n",
       "    </tr>\n",
       "    <tr>\n",
       "      <th>15</th>\n",
       "      <td>prc_full_payment</td>\n",
       "      <td>0.000000</td>\n",
       "      <td>1.00000</td>\n",
       "      <td>1.000000</td>\n",
       "      <td>0.159304</td>\n",
       "      <td>0.000000</td>\n",
       "      <td>0.296254</td>\n",
       "      <td>1.886027</td>\n",
       "      <td>2.201598</td>\n",
       "      <td>0.000000</td>\n",
       "      <td>0.000000</td>\n",
       "      <td>0.000000</td>\n",
       "      <td>0.166667</td>\n",
       "      <td>1.000000</td>\n",
       "      <td>1.000000</td>\n",
       "    </tr>\n",
       "    <tr>\n",
       "      <th>16</th>\n",
       "      <td>tenure</td>\n",
       "      <td>6.000000</td>\n",
       "      <td>12.00000</td>\n",
       "      <td>6.000000</td>\n",
       "      <td>11.534391</td>\n",
       "      <td>12.000000</td>\n",
       "      <td>1.310908</td>\n",
       "      <td>-3.011141</td>\n",
       "      <td>8.156701</td>\n",
       "      <td>10.000000</td>\n",
       "      <td>12.000000</td>\n",
       "      <td>12.000000</td>\n",
       "      <td>12.000000</td>\n",
       "      <td>12.000000</td>\n",
       "      <td>12.000000</td>\n",
       "    </tr>\n",
       "  </tbody>\n",
       "</table>\n",
       "</div>"
      ],
      "text/plain": [
       "                          attributes        min          max         range  \\\n",
       "0                            balance   0.000000  19043.13856  19043.138560   \n",
       "1                  balance_frequency   0.000000      1.00000      1.000000   \n",
       "2                          purchases   0.000000  49039.57000  49039.570000   \n",
       "3                   oneoff_purchases   0.000000  40761.25000  40761.250000   \n",
       "4             installments_purchases   0.000000  22500.00000  22500.000000   \n",
       "5                       cash_advance   0.000000  47137.21176  47137.211760   \n",
       "6                purchases_frequency   0.000000      1.00000      1.000000   \n",
       "7         oneoff_purchases_frequency   0.000000      1.00000      1.000000   \n",
       "8   purchases_installments_frequency   0.000000      1.00000      1.000000   \n",
       "9             cash_advance_frequency   0.000000      1.50000      1.500000   \n",
       "10                  cash_advance_trx   0.000000    123.00000    123.000000   \n",
       "11                     purchases_trx   0.000000    358.00000    358.000000   \n",
       "12                      credit_limit  50.000000  30000.00000  29950.000000   \n",
       "13                          payments   0.049513  50721.48336  50721.433847   \n",
       "14                  minimum_payments   0.019163  76406.20752  76406.188357   \n",
       "15                  prc_full_payment   0.000000      1.00000      1.000000   \n",
       "16                            tenure   6.000000     12.00000      6.000000   \n",
       "\n",
       "          media      mediana  desvio_padrao   skewness    kurtosis  \\\n",
       "0   1601.224893   916.855459    2095.449969   2.374254    7.553876   \n",
       "1      0.895035     1.000000       0.207685  -2.084161    3.369586   \n",
       "2   1025.433874   375.405000    2166.982511   8.055789  108.677684   \n",
       "3    604.901438    44.995000    1684.210284   9.935776  160.121308   \n",
       "4    420.843533    94.785000     917.192075   7.216133   94.193373   \n",
       "5    994.175523     0.000000    2121.335473   5.139629   52.143523   \n",
       "6      0.496000     0.500000       0.401249   0.033041   -1.638001   \n",
       "7      0.205909     0.083333       0.300036   1.504234    1.058206   \n",
       "8      0.368820     0.166667       0.398070   0.487753   -1.419279   \n",
       "9      0.137604     0.000000       0.201780   1.795915    3.184233   \n",
       "10     3.313918     0.000000       6.912106   5.673327   60.428523   \n",
       "11    15.033233     7.000000      25.179010   4.578418   33.952279   \n",
       "12  4522.091030  3000.000000    3659.028513   1.507019    2.773473   \n",
       "13  1784.478099   896.675701    2909.641616   5.873049   54.270814   \n",
       "14   864.304943   312.452292    2372.428981  13.622193  283.963042   \n",
       "15     0.159304     0.000000       0.296254   1.886027    2.201598   \n",
       "16    11.534391    12.000000       1.310908  -3.011141    8.156701   \n",
       "\n",
       "            P10          P25          P50          P75           P95  \\\n",
       "0     29.093764   148.095189   916.855459  2105.195853   5936.635587   \n",
       "1      0.545455     0.909091     1.000000     1.000000      1.000000   \n",
       "2      0.000000    43.367500   375.405000  1145.980000   4060.092500   \n",
       "3      0.000000     0.000000    44.995000   599.100000   2728.372500   \n",
       "4      0.000000     0.000000    94.785000   484.147500   1800.000000   \n",
       "5      0.000000     0.000000     0.000000  1132.385490   4721.415498   \n",
       "6      0.000000     0.083333     0.500000     0.916667      1.000000   \n",
       "7      0.000000     0.000000     0.083333     0.333333      1.000000   \n",
       "8      0.000000     0.000000     0.166667     0.750000      1.000000   \n",
       "9      0.000000     0.000000     0.000000     0.250000      0.583333   \n",
       "10     0.000000     0.000000     0.000000     4.000000     15.000000   \n",
       "11     0.000000     1.000000     7.000000    18.000000     59.000000   \n",
       "12  1200.000000  1600.000000  3000.000000  6500.000000  12000.000000   \n",
       "13   214.777650   418.559237   896.675701  1951.142090   6152.318659   \n",
       "14   106.113465   169.163545   312.452292   825.496463   2766.593894   \n",
       "15     0.000000     0.000000     0.000000     0.166667      1.000000   \n",
       "16    10.000000    12.000000    12.000000    12.000000     12.000000   \n",
       "\n",
       "             P99  \n",
       "0    9369.550879  \n",
       "1       1.000000  \n",
       "2    9127.092000  \n",
       "3    6783.896500  \n",
       "4    3916.483000  \n",
       "5    9681.634354  \n",
       "6       1.000000  \n",
       "7       1.000000  \n",
       "8       1.000000  \n",
       "9       0.833333  \n",
       "10     30.000000  \n",
       "11    117.650000  \n",
       "12  17000.000000  \n",
       "13  13657.620792  \n",
       "14   9037.885662  \n",
       "15      1.000000  \n",
       "16     12.000000  "
      ]
     },
     "execution_count": 28,
     "metadata": {},
     "output_type": "execute_result"
    }
   ],
   "source": [
    "# estimadores de localização ( media, mediana, min, max )\n",
    "est1 = pd.DataFrame( num_attributes.apply( np.mean ) ).T\n",
    "est2 = pd.DataFrame( num_attributes.apply( np.median ) ).T\n",
    "est3 = pd.DataFrame( num_attributes.apply( np.min ) ).T\n",
    "est4 = pd.DataFrame( num_attributes.apply( np.max ) ).T\n",
    "\n",
    "# estimadores de variabilidade ( desvio padrao, range )\n",
    "est5 = pd.DataFrame( num_attributes.apply( np.std ) ).T\n",
    "est6 = pd.DataFrame( num_attributes.apply( lambda x:  x.max() - x.min() ) ).T\n",
    "\n",
    "# skewness and kurtosis\n",
    "est7 = pd.DataFrame( num_attributes.apply( lambda x: x.skew() ) ).T\n",
    "est8 = pd.DataFrame( num_attributes.apply( lambda x: x.kurtosis() ) ).T\n",
    "\n",
    "# concatenate\n",
    "m1 = pd.concat( [est3, est4, est6, est1, est2, est5, est7, est8] ).T.reset_index()\n",
    "m1.columns = ['attributes', 'min', 'max', 'range', 'media', 'mediana', 'desvio_padrao', 'skewness', 'kurtosis']\n",
    "\n",
    "# percentis\n",
    "quartis = num_attributes.apply( lambda x: np.percentile( x, q=[10, 25, 50, 75, 95, 99] ) ).T.reset_index()\n",
    "quartis.columns = ['attributes', 'P10', 'P25', 'P50', 'P75', 'P95', 'P99']\n",
    "\n",
    "# \n",
    "m2 = pd.merge( m1, quartis, how='inner', on='attributes' )\n",
    "m2"
   ]
  },
  {
   "cell_type": "code",
   "execution_count": 56,
   "id": "14444400",
   "metadata": {
    "ExecuteTime": {
     "end_time": "2021-12-02T23:21:02.349017Z",
     "start_time": "2021-12-02T23:21:02.339399Z"
    }
   },
   "outputs": [],
   "source": [
    "### Balance: Quanto eu já gastei no cartão ( Fatura atual )\n",
    "## Possiveis Outliers\n",
    "\n",
    "### Segunda Opção sobre o Balance ( Saldo ): Fatural atual - limite do cartão. O quanto falta de limite disponível para compra.\n",
    "## Possiveis Outliers\n",
    "\n",
    "## Balance Frequency: Frequência de uso do cartão ( usabilidade )\n",
    "\n",
    "## Purchases: O valor gasto no cartão acumulado dos últimos 6 meses ( a soma de todos os valores quando a pessoa passou o cartão na máquina de cartão )\n",
    "\n",
    "## Purchases On-Off: A soma de todas as compras pagas 1x no cartão, nos últimos 6 meses.\n",
    "## ( Categoria )\n",
    "\n",
    "## Installmente Purchases: A soma de todas as compras pagas em mais de 1x no cartão, nos últimos 6 meses.\n",
    "## ( Categoria )\n",
    "\n",
    "## Cash Advance: Valor do saque do limite do cartão de crédito, acumulado dos últimos 6 meses.\n",
    "## Um adiantamento em dinheiro é basicamente um empréstimo de curto prazo oferecido pelo emissor do \n",
    "## cartão de crédito . Quando você pega um adiantamento em dinheiro, está tomando dinheiro emprestado \n",
    "## contra a linha de crédito do seu cartão.\n",
    "\n",
    "## Purchases Frequency: Um valor de 0 a 1 que identifica a frequência de compra do cliente\n",
    "\n",
    "## Cash Advance Frequency: A frequência com que o cliente faz retiradas de dinheiro do seu cartão de crédito.\n",
    "\n",
    "## Cash Advance TRX: A quantidade de saques da conta do cartão de crédito\n",
    "\n",
    "## Purchases TRX: A quantidade de compras realizadas no cartão de crédito.\n",
    "\n",
    "## Credit Limit: O limite do cartão de crédito.\n",
    "\n",
    "## Payments: O valor pago além do mínimo da fatura ( não necessariamente a fatura toda )\n",
    "\n",
    "## Minimum Payments: O valor mínimo pago da fatura\n",
    "\n",
    "## Por exemplo:\n",
    "## Fatura total ( Payments ): 3000 \n",
    "## Pagamento mínimo ( mínimum payments ): 2000 \n",
    "## Pagamento efetivo de R$2.500\n",
    "\n",
    "## Payment = 500 \n",
    "## Minimum payments = 2000\n",
    "## Pagamento efeito = Payments + Minimum Payments\n",
    "\n",
    "## Tenure: O tempo de posse do cartão em meses ( O tempo em que a pessoa é cliente do banco )"
   ]
  },
  {
   "cell_type": "markdown",
   "id": "3b02de2c",
   "metadata": {
    "heading_collapsed": true
   },
   "source": [
    "## 1.6.2. Numerical attributes"
   ]
  },
  {
   "cell_type": "markdown",
   "id": "92c95a5d",
   "metadata": {
    "heading_collapsed": true,
    "hidden": true
   },
   "source": [
    "### Mínimo"
   ]
  },
  {
   "cell_type": "markdown",
   "id": "2b995a6f",
   "metadata": {
    "hidden": true
   },
   "source": [
    "- O menor valor de um conjunto de dados"
   ]
  },
  {
   "cell_type": "markdown",
   "id": "8762fd81",
   "metadata": {
    "heading_collapsed": true,
    "hidden": true
   },
   "source": [
    "### Máximo"
   ]
  },
  {
   "cell_type": "markdown",
   "id": "cc003c44",
   "metadata": {
    "hidden": true
   },
   "source": [
    "- O maior valor do conjunto de dados"
   ]
  },
  {
   "cell_type": "markdown",
   "id": "2b17108d",
   "metadata": {
    "heading_collapsed": true,
    "hidden": true
   },
   "source": [
    "### Intervalo"
   ]
  },
  {
   "cell_type": "markdown",
   "id": "d0b43ee3",
   "metadata": {
    "hidden": true
   },
   "source": [
    "- A diferença entre o maior e o menor valor do conjutno de dados\n",
    "- Escala dos dados"
   ]
  },
  {
   "cell_type": "markdown",
   "id": "b50bc133",
   "metadata": {
    "heading_collapsed": true,
    "hidden": true
   },
   "source": [
    "### Média"
   ]
  },
  {
   "cell_type": "markdown",
   "id": "aeb701c2",
   "metadata": {
    "hidden": true
   },
   "source": [
    "- A soma de todos os valores dividio pelo número de valores\n",
    "- Resume o conjunto de dados em um ponto central"
   ]
  },
  {
   "cell_type": "markdown",
   "id": "39c7e2b9",
   "metadata": {
    "heading_collapsed": true,
    "hidden": true
   },
   "source": [
    "### Mediana"
   ]
  },
  {
   "cell_type": "code",
   "execution_count": 14,
   "id": "665bd6dc",
   "metadata": {
    "ExecuteTime": {
     "end_time": "2021-11-25T22:15:27.932281Z",
     "start_time": "2021-11-25T22:15:27.928820Z"
    },
    "hidden": true
   },
   "outputs": [],
   "source": [
    "#- O número do meio de uma lista ordenada\n",
    "#- ( 3, 5, 1, 2, 10 )\n",
    "#- Ordenar a lista: [ 1, 2, 3, 5, 10]\n",
    "#    - Mediana: 3\n",
    "#    \n",
    "#- ( 3, 1, 2, 10 )\n",
    "#- Ordenar a lista: [ 1, 2, 3, 10]\n",
    "#    - Mediana: ( 2 + 3) / 2 = 2.5\n",
    "#        \n",
    "#- Se o tamanho do conjunto de dados for um número par:\n",
    "#    - A mediana é a média dos valores centraias\n",
    "#    \n",
    "#- Se o tamanho do conjunto de dados for um número impar:\n",
    "#    - A mediana é o valor central do conjunto de dados ordenados\n",
    "#\n",
    "#a = [ 1 , 2 , 300 , 500 , 100 ]\n",
    "#\n",
    "#np.mean( a )\n",
    "#\n",
    "#np.median( a )"
   ]
  },
  {
   "cell_type": "markdown",
   "id": "feba351f",
   "metadata": {
    "heading_collapsed": true,
    "hidden": true
   },
   "source": [
    "### Desvio padrão"
   ]
  },
  {
   "cell_type": "code",
   "execution_count": 15,
   "id": "c8d98259",
   "metadata": {
    "ExecuteTime": {
     "end_time": "2021-11-25T22:15:33.718898Z",
     "start_time": "2021-11-25T22:15:33.714435Z"
    },
    "hidden": true
   },
   "outputs": [],
   "source": [
    "# - Estimativa de dispersão ou variabilidade\n",
    "# - Mede a dispersão dos valores do conjunto de dados em torno de uma estimativa de localização ( média )"
   ]
  },
  {
   "cell_type": "code",
   "execution_count": 16,
   "id": "339e4f08",
   "metadata": {
    "ExecuteTime": {
     "end_time": "2021-11-25T22:15:34.078810Z",
     "start_time": "2021-11-25T22:15:34.073127Z"
    },
    "hidden": true
   },
   "outputs": [],
   "source": [
    "#a = [ 1, 5, 7, 10, 15], media = 7.6\n",
    "#\n",
    "#- Desvio:\n",
    "#    1 - 7.6 = ( - 6.6 )\n",
    "#    5 - 7.6 = ( - 2.6 )\n",
    "#    7 - 7.6 = ( - 0.6 )\n",
    "#    10 - 7.6 = ( + 2.4 )\n",
    "#    15 - 7.6 = ( + 7.4 )\n",
    "#\n",
    "#- Variância:\n",
    "#    1 - 7.6 = ( - 6.6 )**2 = 43.56\n",
    "#    5 - 7.6 = ( - 2.6 )**2 = 6.76\n",
    "#    7 - 7.6 = ( - 0.6 )**2 = 0.36\n",
    "#    10 - 7.6 = ( + 2.4 )**2= 5.76\n",
    "#    15 - 7.6 = ( + 7.4 )**2 = 54.76\n",
    "#    \n",
    "#    ( 43.56 + 6.76 + 0.36 + 5.76 + 54.76) / ( 5 ) = 22.24 L^2\n",
    "#\n",
    "#- Desvio Padrão: A raíz quadrada da variância\n",
    "#    1 - 7.6 = ( - 6.6 )**2 = 43.56\n",
    "#    5 - 7.6 = ( - 2.6 )**2 = 6.76\n",
    "#    7 - 7.6 = ( - 0.6 )**2 = 0.36\n",
    "#    10 - 7.6 = ( + 2.4 )**2= 5.76\n",
    "#    15 - 7.6 = ( + 7.4 )**2 = 54.76\n",
    "#    \n",
    "#    np.sqrt( ( 43.56 + 6.76 + 0.36 + 5.76 + 54.76) / ( 5 - 1) = 27.79 ) = 5.27\n",
    "#\n",
    "#np.sqrt ( ( 43.56 + 6.76 + 0.36 + 5.76 + 54.76) / ( 5 - 1) )"
   ]
  },
  {
   "cell_type": "markdown",
   "id": "30d412ad",
   "metadata": {
    "heading_collapsed": true,
    "hidden": true
   },
   "source": [
    "### Skewness"
   ]
  },
  {
   "cell_type": "code",
   "execution_count": 17,
   "id": "654261be",
   "metadata": {
    "ExecuteTime": {
     "end_time": "2021-11-25T22:15:35.766301Z",
     "start_time": "2021-11-25T22:15:35.754084Z"
    },
    "hidden": true
   },
   "outputs": [],
   "source": [
    "#- Medida de assimetria da distruição de dados, em relação a uma distribuição normal.\n",
    "#- A distribuição normal tem simetria em relação a média, ou seja, 50% dos dados estão a esquerda e a direita\n",
    "#- Skewness Positiva e Negativa\n",
    "#    - Mediana > Média: Deslocamento para a esquerda = Skewness Negativa \n",
    "#    - Mediana < Média: Deslocamento para a direita = Skewness Positiva "
   ]
  },
  {
   "cell_type": "markdown",
   "id": "9e9b7733",
   "metadata": {
    "heading_collapsed": true,
    "hidden": true
   },
   "source": [
    "### Kurtosis"
   ]
  },
  {
   "cell_type": "code",
   "execution_count": 18,
   "id": "c39668b8",
   "metadata": {
    "ExecuteTime": {
     "end_time": "2021-11-25T22:15:36.188075Z",
     "start_time": "2021-11-25T22:15:36.185367Z"
    },
    "hidden": true
   },
   "outputs": [],
   "source": [
    "# - Kurtosis evidencia as caudas longas ( probabilidade de acontecer valor extremos, seja mínimos ou máximo )"
   ]
  },
  {
   "cell_type": "markdown",
   "id": "a073b94c",
   "metadata": {
    "heading_collapsed": true,
    "hidden": true
   },
   "source": [
    "### Quartis ( Quantile )"
   ]
  },
  {
   "cell_type": "markdown",
   "id": "fd32fd88",
   "metadata": {
    "hidden": true
   },
   "source": [
    "- Um quartil é qualquer um dos três valores que divide o conjunto de dados ordenado em 4 partes iguais, e\n",
    "  assim cada parte representa 1/4 da amostra original"
   ]
  },
  {
   "cell_type": "markdown",
   "id": "2807bd59",
   "metadata": {
    "hidden": true
   },
   "source": [
    "**Primeiro Quartil ( Quartil Inferior ):** É o valor do conjunto de dados que delimita os 25% menores valores."
   ]
  },
  {
   "cell_type": "markdown",
   "id": "0867c9b9",
   "metadata": {
    "hidden": true
   },
   "source": [
    "**Segundo Quartil ( Quartil do Meio ):** É o valor do conjunto de dados que delimita os 50% menores valores."
   ]
  },
  {
   "cell_type": "markdown",
   "id": "0b586462",
   "metadata": {
    "hidden": true
   },
   "source": [
    "**Terceiro Quartil ( Quartil Superior ):** É o valor do conjunto de dados que delimita os 75% menores valores."
   ]
  },
  {
   "cell_type": "markdown",
   "id": "457cc25a",
   "metadata": {
    "heading_collapsed": true,
    "hidden": true
   },
   "source": [
    "### Percentis"
   ]
  },
  {
   "cell_type": "markdown",
   "id": "09b5ec2c",
   "metadata": {
    "ExecuteTime": {
     "end_time": "2021-11-25T22:23:24.059821Z",
     "start_time": "2021-11-25T22:23:24.048256Z"
    },
    "hidden": true
   },
   "source": [
    "- Os percentis são medidas que dividem a amostra ordenada em 100 partes, cada uma com uma porcentagem de dados \n",
    "  aproximadamente igual."
   ]
  },
  {
   "cell_type": "markdown",
   "id": "f721c815",
   "metadata": {
    "hidden": true
   },
   "source": [
    "- O percentil 1, determina o 1% dos menores valores do conjunto de dados ( 1% dos dados são menores que P1 )\n",
    "- O percentil 10, determina o 10% dos menores valores do conjunto de dados ( 10% dos dados são menores que P1 )\n",
    "\n",
    "- O percentil 25, determina os 25% dos menores valores do conjunto de dados ( Primeiro Quartil )\n",
    "- O percentil 50, determina os 50% dos menores valores do conjunto de dados ( Segundo Quartil = Mediana )\n",
    "- O percentil 75, determina os 50% dos menores valores do conjunto de dados ( Terceiro Quartil )"
   ]
  },
  {
   "cell_type": "markdown",
   "id": "2c3497bf",
   "metadata": {
    "heading_collapsed": true,
    "hidden": true
   },
   "source": [
    "### Boxplot"
   ]
  },
  {
   "cell_type": "markdown",
   "id": "b29f3b9a",
   "metadata": {
    "ExecuteTime": {
     "end_time": "2021-11-25T22:32:06.818177Z",
     "start_time": "2021-11-25T22:32:06.812233Z"
    },
    "hidden": true
   },
   "source": [
    "- Boxplot mostra os 4 principais atributos de uma variável: Centro, variabilidade, assimetria, outliers.\n",
    "- Violinplot mostra os 5 principais atributos de uma variável: Centro, variabilidade, assimetria, outliers e densidade."
   ]
  },
  {
   "cell_type": "code",
   "execution_count": 29,
   "id": "a28980d3",
   "metadata": {
    "ExecuteTime": {
     "end_time": "2021-11-25T22:53:00.265258Z",
     "start_time": "2021-11-25T22:52:59.983726Z"
    },
    "hidden": true
   },
   "outputs": [
    {
     "data": {
      "text/plain": [
       "<AxesSubplot:xlabel='credit_limit'>"
      ]
     },
     "execution_count": 29,
     "metadata": {},
     "output_type": "execute_result"
    },
    {
     "data": {
      "image/png": "[encoded data removed]",
      "text/plain": [
       "<Figure size 1440x720 with 1 Axes>"
      ]
     },
     "metadata": {
      "needs_background": "light"
     },
     "output_type": "display_data"
    }
   ],
   "source": [
    "plt.figure( figsize=(20,10 ) )\n",
    "sns.boxplot( x='credit_limit', data=num_attributes )"
   ]
  },
  {
   "cell_type": "code",
   "execution_count": 51,
   "id": "244ba8c5",
   "metadata": {
    "ExecuteTime": {
     "end_time": "2021-11-25T23:18:32.812076Z",
     "start_time": "2021-11-25T23:18:32.807499Z"
    },
    "hidden": true
   },
   "outputs": [],
   "source": [
    "#minimum = Q1 - 1.5 * ( Q3 - Q1 )\n",
    "#maximum = Q3 + 1.5 * ( Q3 - Q1 )\n",
    "#\n",
    "#if minimum < valor_minimo_do_conjunto_de_dados:\n",
    "#    print( num_attributes['credit_limit'].min() )\n",
    "#else:\n",
    "#    print( minimum ) \n",
    "#    \n",
    "#    \n",
    "#    \n",
    "#if maximum > valor_maximo_do_conjunto_de_dados:\n",
    "#    print( valor_maximo_do_conjunto_de_dados )\n",
    "#else:\n",
    "#    print( maximum ) "
   ]
  },
  {
   "cell_type": "markdown",
   "id": "13d9ac9a",
   "metadata": {
    "heading_collapsed": true,
    "hidden": true
   },
   "source": [
    "### Violin Plot"
   ]
  },
  {
   "cell_type": "code",
   "execution_count": 52,
   "id": "0d108b6b",
   "metadata": {
    "ExecuteTime": {
     "end_time": "2021-11-25T23:19:18.111347Z",
     "start_time": "2021-11-25T23:19:17.780565Z"
    },
    "cell_style": "split",
    "hidden": true
   },
   "outputs": [
    {
     "data": {
      "text/plain": [
       "<AxesSubplot:xlabel='credit_limit'>"
      ]
     },
     "execution_count": 52,
     "metadata": {},
     "output_type": "execute_result"
    },
    {
     "data": {
      "image/png": "[encoded data removed]",
      "text/plain": [
       "<Figure size 1440x720 with 1 Axes>"
      ]
     },
     "metadata": {
      "needs_background": "light"
     },
     "output_type": "display_data"
    }
   ],
   "source": [
    "plt.figure( figsize=(20,10 ) )\n",
    "sns.violinplot( x='credit_limit', data=num_attributes )"
   ]
  },
  {
   "cell_type": "code",
   "execution_count": 59,
   "id": "9ab66217",
   "metadata": {
    "ExecuteTime": {
     "end_time": "2021-11-25T23:26:57.992929Z",
     "start_time": "2021-11-25T23:26:57.720661Z"
    },
    "cell_style": "split",
    "hidden": true
   },
   "outputs": [
    {
     "data": {
      "text/plain": [
       "<AxesSubplot:xlabel='credit_limit'>"
      ]
     },
     "execution_count": 59,
     "metadata": {},
     "output_type": "execute_result"
    },
    {
     "data": {
      "image/png": "[encoded data removed]",
      "text/plain": [
       "<Figure size 1440x720 with 1 Axes>"
      ]
     },
     "metadata": {
      "needs_background": "light"
     },
     "output_type": "display_data"
    }
   ],
   "source": [
    "plt.figure( figsize=(20,10 ) )\n",
    "sns.boxplot( x='credit_limit', data=num_attributes )"
   ]
  },
  {
   "cell_type": "code",
   "execution_count": 57,
   "id": "0eae4ce9",
   "metadata": {
    "ExecuteTime": {
     "end_time": "2021-11-25T23:23:42.596811Z",
     "start_time": "2021-11-25T23:23:42.051704Z"
    },
    "hidden": true
   },
   "outputs": [
    {
     "data": {
      "text/plain": [
       "<AxesSubplot:xlabel='credit_limit', ylabel='Count'>"
      ]
     },
     "execution_count": 57,
     "metadata": {},
     "output_type": "execute_result"
    },
    {
     "data": {
      "image/png": "[encoded data removed]",
      "text/plain": [
       "<Figure size 432x288 with 1 Axes>"
      ]
     },
     "metadata": {
      "needs_background": "light"
     },
     "output_type": "display_data"
    }
   ],
   "source": [
    "sns.histplot( x='credit_limit', kde=True, data=num_attributes )"
   ]
  },
  {
   "cell_type": "markdown",
   "id": "1134b364",
   "metadata": {},
   "source": [
    "## 1.6.2. Categorical attributes"
   ]
  },
  {
   "cell_type": "markdown",
   "id": "f79c0d69",
   "metadata": {},
   "source": [
    "# 2.0. Data Filtering"
   ]
  },
  {
   "cell_type": "code",
   "execution_count": 63,
   "id": "93cf56cc",
   "metadata": {
    "ExecuteTime": {
     "end_time": "2021-12-02T23:51:46.480772Z",
     "start_time": "2021-12-02T23:51:46.474003Z"
    }
   },
   "outputs": [],
   "source": [
    "df20 = df01.copy()"
   ]
  },
  {
   "cell_type": "markdown",
   "id": "c9acce86",
   "metadata": {},
   "source": [
    "# 3.0. Feature Engineering"
   ]
  },
  {
   "cell_type": "code",
   "execution_count": null,
   "id": "60f14623",
   "metadata": {},
   "outputs": [],
   "source": [
    "#Fato-Dimensao by Ralph Kimbal\n",
    "#Snowplow by"
   ]
  },
  {
   "cell_type": "code",
   "execution_count": null,
   "id": "e050d65b",
   "metadata": {},
   "outputs": [],
   "source": [
    "Compra = Fato ( Soma, Contar, Maior, Menor, Media, Mediana )\n",
    "Cliente entrou na base = Fato\n",
    "Devolução = Fato"
   ]
  },
  {
   "cell_type": "code",
   "execution_count": null,
   "id": "2f68ec9f",
   "metadata": {},
   "outputs": [],
   "source": [
    "Dimensao\n",
    "\n",
    "Tempo( Ano, mes, dia, hora, minuto )\n",
    "Espaco( localização, região, lat, long, bairro, rua )\n",
    "Produto( Nome, Tipo, Categoria, Preço, Condição de compra )\n",
    "Marketing( Organica, Paid ( Facebook, Google, Criteo ))"
   ]
  },
  {
   "cell_type": "code",
   "execution_count": null,
   "id": "0c0a27f5",
   "metadata": {},
   "outputs": [],
   "source": [
    "Feature Store = \n",
    "Custos de Marketing, Quantidade de Cliente, CAC, Numeros de campanhas, user_id, campaing_id, product_id\n",
    "\n",
    "vendas, descontos, sales_last_30_days, sales_last_15_days, \n",
    "\n",
    "\n",
    "=====================\n",
    "Feature Store\n",
    "=====================\n",
    "train.yml\n",
    "{'features_store': ['age', 'last_purchaes']}"
   ]
  },
  {
   "cell_type": "code",
   "execution_count": 64,
   "id": "a6bcb86a",
   "metadata": {
    "ExecuteTime": {
     "end_time": "2021-12-02T23:53:23.275910Z",
     "start_time": "2021-12-02T23:53:23.247382Z"
    }
   },
   "outputs": [
    {
     "data": {
      "text/html": [
       "<div>\n",
       "<style scoped>\n",
       "    .dataframe tbody tr th:only-of-type {\n",
       "        vertical-align: middle;\n",
       "    }\n",
       "\n",
       "    .dataframe tbody tr th {\n",
       "        vertical-align: top;\n",
       "    }\n",
       "\n",
       "    .dataframe thead th {\n",
       "        text-align: right;\n",
       "    }\n",
       "</style>\n",
       "<table border=\"1\" class=\"dataframe\">\n",
       "  <thead>\n",
       "    <tr style=\"text-align: right;\">\n",
       "      <th></th>\n",
       "      <th>cust_id</th>\n",
       "      <th>balance</th>\n",
       "      <th>balance_frequency</th>\n",
       "      <th>purchases</th>\n",
       "      <th>oneoff_purchases</th>\n",
       "      <th>installments_purchases</th>\n",
       "      <th>cash_advance</th>\n",
       "      <th>purchases_frequency</th>\n",
       "      <th>oneoff_purchases_frequency</th>\n",
       "      <th>purchases_installments_frequency</th>\n",
       "      <th>cash_advance_frequency</th>\n",
       "      <th>cash_advance_trx</th>\n",
       "      <th>purchases_trx</th>\n",
       "      <th>credit_limit</th>\n",
       "      <th>payments</th>\n",
       "      <th>minimum_payments</th>\n",
       "      <th>prc_full_payment</th>\n",
       "      <th>tenure</th>\n",
       "    </tr>\n",
       "  </thead>\n",
       "  <tbody>\n",
       "    <tr>\n",
       "      <th>0</th>\n",
       "      <td>C10001</td>\n",
       "      <td>40.900749</td>\n",
       "      <td>0.818182</td>\n",
       "      <td>95.40</td>\n",
       "      <td>0.00</td>\n",
       "      <td>95.40</td>\n",
       "      <td>0.000000</td>\n",
       "      <td>0.166667</td>\n",
       "      <td>0.000000</td>\n",
       "      <td>0.083333</td>\n",
       "      <td>0.00</td>\n",
       "      <td>0</td>\n",
       "      <td>2</td>\n",
       "      <td>1000.0</td>\n",
       "      <td>201.802084</td>\n",
       "      <td>139.509787</td>\n",
       "      <td>0.000000</td>\n",
       "      <td>12</td>\n",
       "    </tr>\n",
       "    <tr>\n",
       "      <th>1</th>\n",
       "      <td>C10002</td>\n",
       "      <td>3202.467416</td>\n",
       "      <td>0.909091</td>\n",
       "      <td>0.00</td>\n",
       "      <td>0.00</td>\n",
       "      <td>0.00</td>\n",
       "      <td>6442.945483</td>\n",
       "      <td>0.000000</td>\n",
       "      <td>0.000000</td>\n",
       "      <td>0.000000</td>\n",
       "      <td>0.25</td>\n",
       "      <td>4</td>\n",
       "      <td>0</td>\n",
       "      <td>7000.0</td>\n",
       "      <td>4103.032597</td>\n",
       "      <td>1072.340217</td>\n",
       "      <td>0.222222</td>\n",
       "      <td>12</td>\n",
       "    </tr>\n",
       "    <tr>\n",
       "      <th>2</th>\n",
       "      <td>C10003</td>\n",
       "      <td>2495.148862</td>\n",
       "      <td>1.000000</td>\n",
       "      <td>773.17</td>\n",
       "      <td>773.17</td>\n",
       "      <td>0.00</td>\n",
       "      <td>0.000000</td>\n",
       "      <td>1.000000</td>\n",
       "      <td>1.000000</td>\n",
       "      <td>0.000000</td>\n",
       "      <td>0.00</td>\n",
       "      <td>0</td>\n",
       "      <td>12</td>\n",
       "      <td>7500.0</td>\n",
       "      <td>622.066742</td>\n",
       "      <td>627.284787</td>\n",
       "      <td>0.000000</td>\n",
       "      <td>12</td>\n",
       "    </tr>\n",
       "    <tr>\n",
       "      <th>4</th>\n",
       "      <td>C10005</td>\n",
       "      <td>817.714335</td>\n",
       "      <td>1.000000</td>\n",
       "      <td>16.00</td>\n",
       "      <td>16.00</td>\n",
       "      <td>0.00</td>\n",
       "      <td>0.000000</td>\n",
       "      <td>0.083333</td>\n",
       "      <td>0.083333</td>\n",
       "      <td>0.000000</td>\n",
       "      <td>0.00</td>\n",
       "      <td>0</td>\n",
       "      <td>1</td>\n",
       "      <td>1200.0</td>\n",
       "      <td>678.334763</td>\n",
       "      <td>244.791237</td>\n",
       "      <td>0.000000</td>\n",
       "      <td>12</td>\n",
       "    </tr>\n",
       "    <tr>\n",
       "      <th>5</th>\n",
       "      <td>C10006</td>\n",
       "      <td>1809.828751</td>\n",
       "      <td>1.000000</td>\n",
       "      <td>1333.28</td>\n",
       "      <td>0.00</td>\n",
       "      <td>1333.28</td>\n",
       "      <td>0.000000</td>\n",
       "      <td>0.666667</td>\n",
       "      <td>0.000000</td>\n",
       "      <td>0.583333</td>\n",
       "      <td>0.00</td>\n",
       "      <td>0</td>\n",
       "      <td>8</td>\n",
       "      <td>1800.0</td>\n",
       "      <td>1400.057770</td>\n",
       "      <td>2407.246035</td>\n",
       "      <td>0.000000</td>\n",
       "      <td>12</td>\n",
       "    </tr>\n",
       "  </tbody>\n",
       "</table>\n",
       "</div>"
      ],
      "text/plain": [
       "  cust_id      balance  balance_frequency  purchases  oneoff_purchases  \\\n",
       "0  C10001    40.900749           0.818182      95.40              0.00   \n",
       "1  C10002  3202.467416           0.909091       0.00              0.00   \n",
       "2  C10003  2495.148862           1.000000     773.17            773.17   \n",
       "4  C10005   817.714335           1.000000      16.00             16.00   \n",
       "5  C10006  1809.828751           1.000000    1333.28              0.00   \n",
       "\n",
       "   installments_purchases  cash_advance  purchases_frequency  \\\n",
       "0                   95.40      0.000000             0.166667   \n",
       "1                    0.00   6442.945483             0.000000   \n",
       "2                    0.00      0.000000             1.000000   \n",
       "4                    0.00      0.000000             0.083333   \n",
       "5                 1333.28      0.000000             0.666667   \n",
       "\n",
       "   oneoff_purchases_frequency  purchases_installments_frequency  \\\n",
       "0                    0.000000                          0.083333   \n",
       "1                    0.000000                          0.000000   \n",
       "2                    1.000000                          0.000000   \n",
       "4                    0.083333                          0.000000   \n",
       "5                    0.000000                          0.583333   \n",
       "\n",
       "   cash_advance_frequency  cash_advance_trx  purchases_trx  credit_limit  \\\n",
       "0                    0.00                 0              2        1000.0   \n",
       "1                    0.25                 4              0        7000.0   \n",
       "2                    0.00                 0             12        7500.0   \n",
       "4                    0.00                 0              1        1200.0   \n",
       "5                    0.00                 0              8        1800.0   \n",
       "\n",
       "      payments  minimum_payments  prc_full_payment  tenure  \n",
       "0   201.802084        139.509787          0.000000      12  \n",
       "1  4103.032597       1072.340217          0.222222      12  \n",
       "2   622.066742        627.284787          0.000000      12  \n",
       "4   678.334763        244.791237          0.000000      12  \n",
       "5  1400.057770       2407.246035          0.000000      12  "
      ]
     },
     "execution_count": 64,
     "metadata": {},
     "output_type": "execute_result"
    }
   ],
   "source": [
    "df20.head()"
   ]
  },
  {
   "cell_type": "markdown",
   "id": "397405b7",
   "metadata": {},
   "source": [
    "# 4.0. EDA - Space Study"
   ]
  },
  {
   "cell_type": "markdown",
   "id": "82a0e904",
   "metadata": {},
   "source": [
    "# 5.0. Data preparation"
   ]
  },
  {
   "cell_type": "markdown",
   "id": "c3f587d5",
   "metadata": {},
   "source": [
    "# 6.0. Feature Selection"
   ]
  },
  {
   "cell_type": "code",
   "execution_count": 12,
   "id": "f78f9de7",
   "metadata": {
    "ExecuteTime": {
     "end_time": "2021-11-16T23:18:33.787412Z",
     "start_time": "2021-11-16T23:18:33.754700Z"
    }
   },
   "outputs": [],
   "source": [
    "cols_drop = ['cust_id']\n",
    "X = df01.drop( columns=cols_drop )"
   ]
  },
  {
   "cell_type": "markdown",
   "id": "4bccd04a",
   "metadata": {},
   "source": [
    "# 7.0. Hiperparmeter Fine Tuning"
   ]
  },
  {
   "cell_type": "markdown",
   "id": "d2c1318d",
   "metadata": {},
   "source": [
    "## 7.1. K-Means"
   ]
  },
  {
   "cell_type": "code",
   "execution_count": 13,
   "id": "4cde901f",
   "metadata": {
    "ExecuteTime": {
     "end_time": "2021-11-16T23:19:10.621271Z",
     "start_time": "2021-11-16T23:18:34.343155Z"
    }
   },
   "outputs": [],
   "source": [
    "clusters = [ 2, 3, 4, 5, 6, 7, 8]\n",
    "\n",
    "silhouette_list = []\n",
    "davies_list = []\n",
    "for k in clusters:\n",
    "    # model definition\n",
    "    kmeans_model = c.KMeans( n_clusters=k )\n",
    "    \n",
    "    # model training\n",
    "    kmeans_model.fit( X )\n",
    "    \n",
    "    # model predict\n",
    "    labels = kmeans_model.predict( X )\n",
    "    \n",
    "    # model performance\n",
    "    sil  = m.silhouette_score( X, labels )\n",
    "    dav  =  m.davies_bouldin_score( X, labels )\n",
    "    \n",
    "    silhouette_list.append( sil )\n",
    "    davies_list.append( dav )"
   ]
  },
  {
   "cell_type": "code",
   "execution_count": 14,
   "id": "50ff3c4d",
   "metadata": {
    "ExecuteTime": {
     "end_time": "2021-11-16T23:19:11.356840Z",
     "start_time": "2021-11-16T23:19:10.632274Z"
    },
    "cell_style": "center"
   },
   "outputs": [
    {
     "data": {
      "image/png": "[encoded data removed]",
      "text/plain": [
       "<Figure size 1440x720 with 1 Axes>"
      ]
     },
     "metadata": {
      "needs_background": "light"
     },
     "output_type": "display_data"
    }
   ],
   "source": [
    "plt.figure( figsize=(20, 10))\n",
    "plt.plot( clusters, silhouette_list, linestyle='--', marker='o', color='b' )\n",
    "plt.xlabel( 'K - Number of clusters' )\n",
    "plt.ylabel( 'SS - Silhouette Score' )\n",
    "plt.title( 'Silhouette Score' );"
   ]
  },
  {
   "cell_type": "code",
   "execution_count": 15,
   "id": "7d144bad",
   "metadata": {
    "ExecuteTime": {
     "end_time": "2021-11-16T23:19:11.914025Z",
     "start_time": "2021-11-16T23:19:11.364995Z"
    },
    "cell_style": "center"
   },
   "outputs": [
    {
     "data": {
      "image/png": "[encoded data removed]",
      "text/plain": [
       "<Figure size 1440x720 with 1 Axes>"
      ]
     },
     "metadata": {
      "needs_background": "light"
     },
     "output_type": "display_data"
    }
   ],
   "source": [
    "plt.figure( figsize=(20, 10))\n",
    "plt.plot( clusters, davies_list, linestyle='--', marker='o', color='b' )\n",
    "plt.xlabel( 'K - Number of clusters' )\n",
    "plt.ylabel( 'DB Score' )\n",
    "plt.title( 'DB Index' );"
   ]
  },
  {
   "cell_type": "markdown",
   "id": "c354b6e7",
   "metadata": {},
   "source": [
    "# 8.0. Machine Learning Traning"
   ]
  },
  {
   "cell_type": "markdown",
   "id": "edb8f999",
   "metadata": {},
   "source": [
    "# 9.0. Clustering Analysis"
   ]
  },
  {
   "cell_type": "markdown",
   "id": "87ed3962",
   "metadata": {},
   "source": [
    "# 10.0. EDA - Insight Reports"
   ]
  },
  {
   "cell_type": "markdown",
   "id": "6dcece18",
   "metadata": {},
   "source": [
    "# 11.0. Deploy To Production"
   ]
  }
 ],
 "metadata": {
  "kernelspec": {
   "display_name": "Python 3 (ipykernel)",
   "language": "python",
   "name": "python3"
  },
  "language_info": {
   "codemirror_mode": {
    "name": "ipython",
    "version": 3
   },
   "file_extension": ".py",
   "mimetype": "text/x-python",
   "name": "python",
   "nbconvert_exporter": "python",
   "pygments_lexer": "ipython3",
   "version": "3.9.7"
  }
 },
 "nbformat": 4,
 "nbformat_minor": 5
}
